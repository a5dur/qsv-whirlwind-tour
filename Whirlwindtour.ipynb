{
 "cells": [
  {
   "cell_type": "markdown",
   "id": "ba3d7197-d56d-40ce-94bc-9e8366668808",
   "metadata": {},
   "source": [
    "### A whirlwind tour\n",
    "\n",
    "> ℹ️ **NOTE:** This tour is primarily targeted to Linux and macOS users. Though qsv works on Windows, the tour\n",
    "assumes basic knowledge of command-line piping and redirection, and uses other command-line tools (curl, tee, head, etc.)\n",
    "that are not installed by default on Windows.\n",
    "\n",
    "Let's say you're playing with some data from the\n",
    "[Data Science Toolkit](https://github.com/petewarden/dstkdata), which contains\n",
    "several CSV files. Maybe you're interested in the population counts of each\n",
    "city in the world. So grab the 124MB, 2.7M row CSV file and start examining it:\n"
   ]
  },
  {
   "cell_type": "code",
   "execution_count": 1,
   "id": "0495a205-d3d3-44a3-b41c-f381aee6d3c2",
   "metadata": {},
   "outputs": [
    {
     "name": "stdout",
     "output_type": "stream",
     "text": [
      "1   Country\n",
      "2   City\n",
      "3   AccentCity\n",
      "4   Region\n",
      "5   Population\n",
      "6   Latitude\n",
      "7   Longitude\n"
     ]
    }
   ],
   "source": [
    "!qsv headers wcp.csv"
   ]
  },
  {
   "cell_type": "markdown",
   "id": "c4b8013e-d107-43bc-88aa-443d56f7c70f",
   "metadata": {},
   "source": [
    "The next thing you might want to do is get an overview of the kind of data that\n",
    "appears in each column. The `stats` command will do this for you:"
   ]
  },
  {
   "cell_type": "code",
   "execution_count": 10,
   "id": "42dfc7a0-68fb-4576-870f-197cea4661a1",
   "metadata": {},
   "outputs": [
    {
     "name": "stderr",
     "output_type": "stream",
     "text": [
      "Unknown flag: '--table'\n",
      "\n",
      "Usage:\n",
      "    qsv stats [options] [<input>]\n",
      "    qsv stats --help\n"
     ]
    }
   ],
   "source": [
    "!qsv stats wcp.csv --table"
   ]
  },
  {
   "cell_type": "code",
   "execution_count": null,
   "id": "a456c64f-a441-43da-89b9-01169e3e73e0",
   "metadata": {},
   "outputs": [],
   "source": []
  }
 ],
 "metadata": {
  "kernelspec": {
   "display_name": "Python 3 (ipykernel)",
   "language": "python",
   "name": "python3"
  },
  "language_info": {
   "codemirror_mode": {
    "name": "ipython",
    "version": 3
   },
   "file_extension": ".py",
   "mimetype": "text/x-python",
   "name": "python",
   "nbconvert_exporter": "python",
   "pygments_lexer": "ipython3",
   "version": "3.10.2"
  }
 },
 "nbformat": 4,
 "nbformat_minor": 5
}
