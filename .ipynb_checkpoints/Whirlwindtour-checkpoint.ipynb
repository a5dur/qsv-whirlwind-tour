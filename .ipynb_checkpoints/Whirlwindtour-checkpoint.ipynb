{
 "cells": [
  {
   "cell_type": "code",
   "execution_count": 1,
   "id": "c1a3ff7c-1be7-4f73-b7f6-f3db842f5a71",
   "metadata": {},
   "outputs": [
    {
     "name": "stderr",
     "output_type": "stream",
     "text": [
      "qsv is a suite of CSV command line utilities.\n",
      "\n",
      "Please choose one of the following 49 commands:\n",
      "    apply       Apply series of transformations to a column\n",
      "    behead      Drop header from CSV file\n",
      "    cat         Concatenate by row or column\n",
      "    count       Count records\n",
      "    dedup       Remove redundant rows\n",
      "    describegpt Infer extended metadata using a LLM\n",
      "    diff        Find the difference between two CSVs\n",
      "    enum        Add a new column enumerating CSV lines\n",
      "    excel       Exports an Excel sheet to a CSV\n",
      "    exclude     Excludes the records in one CSV from another\n",
      "    explode     Explode rows based on some column separator\n",
      "    extdedup    Remove duplicates rows from an arbitrarily large text file\n",
      "    extsort     Sort arbitrarily large text file\n",
      "    fetch       Fetches data from web services for every row using HTTP Get.\n",
      "    fetchpost   Fetches data from web services for every row using HTTP Post.\n",
      "    fill        Fill empty values\n",
      "    fixlengths  Makes all records have same length\n",
      "    flatten     Show one field per line\n",
      "    fmt         Format CSV output (change field delimiter)\n",
      "    frequency   Show frequency tables\n",
      "    generate    Generate test data by profiling a CSV\n",
      "    headers     Show header names\n",
      "    help        Show this usage message\n",
      "    index       Create CSV index for faster access\n",
      "    input       Read CSVs w/ special quoting, skipping, trimming & transcoding rules\n",
      "    join        Join CSV files\n",
      "    jsonl       Convert newline-delimited JSON files to CSV\n",
      "    partition   Partition CSV data based on a column value\n",
      "    pseudo      Pseudonymise the values of a column\n",
      "    rename      Rename the columns of CSV data efficiently\n",
      "    replace     Replace patterns in CSV data\n",
      "    reverse     Reverse rows of CSV data\n",
      "    safenames   Modify a CSV's header names to db-safe names\n",
      "    sample      Randomly sample CSV data\n",
      "    schema      Generate JSON Schema from CSV data\n",
      "    search      Search CSV data with a regex\n",
      "    searchset   Search CSV data with a regex set\n",
      "    select      Select, re-order, duplicate or drop columns\n",
      "    slice       Slice records from CSV\n",
      "    snappy      Compress/decompress data using the Snappy algorithm\n",
      "    sniff       Quickly sniff CSV metadata\n",
      "    sort        Sort CSV data in alphabetical, numerical, reverse or random order\n",
      "    sortcheck   Check if a CSV is sorted\n",
      "    split       Split CSV data into many files\n",
      "    stats       Infer data types and compute summary statistics\n",
      "    table       Align CSV data into columns\n",
      "    tojsonl     Convert CSV to newline-delimited JSON\n",
      "    transpose   Transpose rows/columns of CSV data\n",
      "    validate    Validate CSV data for RFC4180-compliance or with JSON Schema\n",
      "\n",
      "sponsored by datHere - Data Infrastructure Engineering\n",
      "\n",
      "Checking GitHub for updates...\n",
      "Up to date (0.109.0)... no update required.\n"
     ]
    }
   ],
   "source": [
    "!qsv"
   ]
  },
  {
   "cell_type": "code",
   "execution_count": null,
   "id": "30f399b1-1514-4fa6-af89-67578873bab5",
   "metadata": {},
   "outputs": [],
   "source": []
  }
 ],
 "metadata": {
  "kernelspec": {
   "display_name": "Python 3 (ipykernel)",
   "language": "python",
   "name": "python3"
  },
  "language_info": {
   "codemirror_mode": {
    "name": "ipython",
    "version": 3
   },
   "file_extension": ".py",
   "mimetype": "text/x-python",
   "name": "python",
   "nbconvert_exporter": "python",
   "pygments_lexer": "ipython3",
   "version": "3.10.2"
  }
 },
 "nbformat": 4,
 "nbformat_minor": 5
}
